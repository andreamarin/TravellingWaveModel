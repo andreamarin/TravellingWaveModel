{
 "cells": [
  {
   "cell_type": "code",
   "execution_count": 1,
   "metadata": {},
   "outputs": [],
   "source": [
    "#Import libraries\n",
    "from numpy import *\n",
    "from scipy.sparse import diags\n",
    "from matplotlib import animation as animation\n",
    "from matplotlib import pyplot \n",
    "from scipy.integrate import odeint\n",
    "from random import *\n",
    "from pylab import *\n",
    "\n",
    "#plot inline\n",
    "%matplotlib inline"
   ]
  },
  {
   "cell_type": "code",
   "execution_count": 2,
   "metadata": {},
   "outputs": [],
   "source": [
    "# parametros\n",
    "lamda=0.1\n",
    "gama=1\n",
    "K=3\n",
    "\n",
    "#finite difference approximations steps\n",
    "#dx=0.25\n",
    "#dt=0.25\n",
    "\n",
    "#end of time and space arrays\n",
    "T=150\n",
    "R=350\n",
    "\n",
    "#size of the arrays\n",
    "m=500#int(T/dt)\n",
    "n=500#int(R/dx)\n",
    "\n",
    "\n",
    "#time array\n",
    "t=linspace(0,T,m,endpoint=True)\n",
    "\n",
    "#space array\n",
    "x=linspace(0,R,n,endpoint=True)\n",
    "\n",
    "dt=t[1]-t[0]\n",
    "dx=x[1]-x[0]\n"
   ]
  },
  {
   "cell_type": "code",
   "execution_count": 3,
   "metadata": {},
   "outputs": [],
   "source": [
    "#Initializes sol. matrix with initial conditions\n",
    "def initCN(x,t):    \n",
    "    m=len(t)\n",
    "    n=len(x)\n",
    "    \n",
    "    C=zeros((m,n))\n",
    "    N=zeros((m,n))\n",
    "    \n",
    "    #Initial conditions\n",
    "    C[0,:]=array([1 if k<100 else 0 for k in x])\n",
    "    N[0,:]=array([0 for k in x ])\n",
    "    return [C,N]"
   ]
  },
  {
   "cell_type": "code",
   "execution_count": 4,
   "metadata": {},
   "outputs": [],
   "source": [
    "def fieldC(c,t,n,D):\n",
    "    dc=D*dot(L,transpose(c))+c*(1-c-gama*n)-lamda*c*(1-K*n)\n",
    "    \n",
    "    return dc\n",
    "\n",
    "def fieldN(n,t,c):\n",
    "    dn=lamda*c*(1-K*n)\n",
    "    \n",
    "    return dn"
   ]
  },
  {
   "cell_type": "markdown",
   "metadata": {},
   "source": [
    "# Considerando difusión"
   ]
  },
  {
   "cell_type": "code",
   "execution_count": 5,
   "metadata": {},
   "outputs": [],
   "source": [
    "#Constructs sparse matrix\n",
    "def discretizationMatrix(dx,m,n):\n",
    "    diagonals=[]\n",
    "    \n",
    "    diagonals.append(ones((1,n))[0]*(-2/pow(dx,2)))\n",
    "    diagonals.append((ones((1,n-1))[0])*(1/pow(dx,2)))\n",
    "    diagonals.append((ones((1,n-1))[0])*(1/pow(dx,2)))\n",
    "    diagonals.append(zeros((1,n-2))[0])\n",
    "    diagonals.append(zeros((1,n-2))[0])\n",
    "    \n",
    "    diagonals[2][n-2]=2/pow(dx,2)\n",
    "    diagonals[2][n-2]=2/pow(dx,2)\n",
    "    \n",
    "    L=diags(diagonals,[0,-1,1,2,-2])*eye(n)\n",
    "    \n",
    "    return L"
   ]
  },
  {
   "cell_type": "code",
   "execution_count": 6,
   "metadata": {},
   "outputs": [],
   "source": [
    "def solveODE(n,t,D):   \n",
    "    C=CN[0]\n",
    "    N=CN[1]\n",
    "    \n",
    "    C_sol=odeint(fieldC,C[0,:],t,args=(N[0,:],D))\n",
    "    N_sol=odeint(fieldN,N[0,:],t,args=(C[0,:],))\n",
    "    \n",
    "    return [C_sol,N_sol]"
   ]
  },
  {
   "cell_type": "code",
   "execution_count": 7,
   "metadata": {},
   "outputs": [],
   "source": [
    "CN=initCN(x,t)\n",
    "L=discretizationMatrix(dx,m,n)"
   ]
  },
  {
   "cell_type": "code",
   "execution_count": 8,
   "metadata": {},
   "outputs": [],
   "source": [
    "CN_sol=solveODE(n,t,1)"
   ]
  },
  {
   "cell_type": "code",
   "execution_count": 9,
   "metadata": {},
   "outputs": [],
   "source": [
    "C_sol=CN_sol[0]\n",
    "N_sol=CN_sol[1]"
   ]
  },
  {
   "cell_type": "code",
   "execution_count": 12,
   "metadata": {},
   "outputs": [
    {
     "data": {
      "image/png": "[encoded data removed]",
      "text/plain": [
       "<matplotlib.figure.Figure at 0x11851d0b8>"
      ]
     },
     "metadata": {},
     "output_type": "display_data"
    }
   ],
   "source": [
    "fig=plt.figure()\n",
    "xlim(0,350)\n",
    "ylim(0,1)\n",
    "xlabel('x')\n",
    "ylabel('Densidad de células')\n",
    "plot(x,C_sol[333],x,N_sol[400])\n",
    "savefig('./images/prueba.png')"
   ]
  },
  {
   "cell_type": "code",
   "execution_count": null,
   "metadata": {},
   "outputs": [],
   "source": [
    "lamdas=[0.1,0.2,1,10]\n",
    "dc_sols=[]\n",
    "dn_sols=[]\n",
    "\n",
    "fig5=figure()\n",
    "xlim(0,350)\n",
    "ylim(0,1)\n",
    "xlabel(\"x\")\n",
    "ylabel(\"Densidad de células\")\n",
    "\n",
    "for l in lamdas:\n",
    "    lamda=l\n",
    "    CN_sol=solveODE(n,t,1)\n",
    "    \n",
    "    dc_sol=CN_sol[0]\n",
    "    dn_sol=CN_sol[1]\n",
    "    \n",
    "    plot(x,dc_sol[333])"
   ]
  },
  {
   "cell_type": "code",
   "execution_count": null,
   "metadata": {},
   "outputs": [],
   "source": [
    "t[333]"
   ]
  },
  {
   "cell_type": "markdown",
   "metadata": {},
   "source": [
    "# Sin difusión"
   ]
  },
  {
   "cell_type": "code",
   "execution_count": null,
   "metadata": {},
   "outputs": [],
   "source": [
    "def field(CN,t):\n",
    "    c=CN[0]\n",
    "    n=CN[1]\n",
    "    \n",
    "    C=c*(1-c-gama*n)-lamda*c*(1-K*n)\n",
    "    N=lamda*c*(1-K*n)\n",
    "    \n",
    "    return [C,N]\n"
   ]
  },
  {
   "cell_type": "code",
   "execution_count": null,
   "metadata": {},
   "outputs": [],
   "source": [
    "#steady states\n",
    "xstar=[0,0]\n",
    "#xstar = [1-1/K,1/K]]"
   ]
  },
  {
   "cell_type": "code",
   "execution_count": null,
   "metadata": {},
   "outputs": [],
   "source": [
    "def init_cond(xstar,eps,n):\n",
    "    xinit = xstar + eps*rand(n,2)\n",
    "    \n",
    "    return xinit"
   ]
  },
  {
   "cell_type": "code",
   "execution_count": null,
   "metadata": {},
   "outputs": [],
   "source": [
    "init_state=init_cond(xstar,0.3,1)[0]\n",
    "sol=odeint(field,init_state,t)\n",
    "#sol=odeint(field,[1,0],t)"
   ]
  },
  {
   "cell_type": "code",
   "execution_count": null,
   "metadata": {},
   "outputs": [],
   "source": [
    "k=len(sol[:,0])\n",
    "xx=linspace(0,1,k)\n",
    "yy=linspace(0,1,k)\n",
    "\n",
    "#nullclines\n",
    "nn_c=lamda*k*xx+1-lamda\n",
    "\n",
    "\n",
    "fig=figure()\n",
    "xlabel(\"celulas precursoras $(c)$\")\n",
    "ylabel(\"celulas diferenciadas(n)\")\n",
    "#xlim(0.93,1.001)\n",
    "#ylim(-0.01,0.35)\n",
    "\n",
    "# plot c vs n\n",
    "plot(sol[:,0],sol[:,1],'b-')\n"
   ]
  },
  {
   "cell_type": "code",
   "execution_count": null,
   "metadata": {},
   "outputs": [],
   "source": [
    "fig2=figure()\n",
    "xlabel(\"t\")\n",
    "ylabel(\"c,n\")\n",
    "xlim(0,150)\n",
    "ylim(0,1.1)\n",
    "plot(t,sol[:,0],t,sol[:,1])"
   ]
  },
  {
   "cell_type": "code",
   "execution_count": null,
   "metadata": {},
   "outputs": [],
   "source": [
    "fig3=figure()\n",
    "xlim(0,150)\n",
    "plot(t,C_sol[:,142],t,N_sol[:,142])"
   ]
  }
 ],
 "metadata": {
  "kernelspec": {
   "display_name": "Python 3",
   "language": "python",
   "name": "python3"
  },
  "language_info": {
   "codemirror_mode": {
    "name": "ipython",
    "version": 3
   },
   "file_extension": ".py",
   "mimetype": "text/x-python",
   "name": "python",
   "nbconvert_exporter": "python",
   "pygments_lexer": "ipython3",
   "version": "3.6.4"
  }
 },
 "nbformat": 4,
 "nbformat_minor": 2
}
