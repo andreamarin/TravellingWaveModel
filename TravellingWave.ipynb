{
 "cells": [
  {
   "cell_type": "code",
   "execution_count": 46,
   "metadata": {},
   "outputs": [],
   "source": [
    "#Import libraries\n",
    "from numpy import *\n",
    "from scipy.sparse import diags\n",
    "from scipy.integrate import odeint\n",
    "from matplotlib import animation as animation\n",
    "from matplotlib import pyplot \n",
    "from matplotlib import *\n",
    "import matplotlib.colors as colors\n",
    "from pylab import *\n",
    "from itertools import *\n",
    "\n",
    "#plot inline\n",
    "%matplotlib inline"
   ]
  },
  {
   "cell_type": "code",
   "execution_count": 47,
   "metadata": {},
   "outputs": [],
   "source": [
    "#------------------------------------------------------------------------\n",
    "#                        TIME AND SPACE ARRAYS\n",
    "#------------------------------------------------------------------------\n",
    "#end of time and space arrays\n",
    "T=150\n",
    "R=350\n",
    "\n",
    "#size of the arrays\n",
    "m=500                #time\n",
    "\n",
    "n=500                #space       \n",
    "\n",
    "\n",
    "#time array\n",
    "t=linspace(0,T,m,endpoint=True)\n",
    "\n",
    "#space array\n",
    "x=linspace(0,R,n,endpoint=True)\n",
    "\n",
    "dt=t[1]-t[0]\n",
    "dx=x[1]-x[0]\n"
   ]
  },
  {
   "cell_type": "code",
   "execution_count": 48,
   "metadata": {},
   "outputs": [],
   "source": [
    "#-------------------------------------------------------------------------\n",
    "#                       VECTOR FIELD FOR THE SYSTEM\n",
    "#-------------------------------------------------------------------------\n",
    "# INPUTS\n",
    "#  CN: array of (1,2*n) with the values for C and N\n",
    "#  t: time array\n",
    "#  n: size of the space array\n",
    "#  D: difussion coefficient\n",
    "# OUTPUT\n",
    "#  CN: array with the value of the system at C and N\n",
    "\n",
    "def field(CN,t,n,D):\n",
    "    c=CN[0:n]\n",
    "    n=CN[n:2*n]\n",
    "    \n",
    "    dc=c*(1-c-gama*n)-lamda*c*(1-K*n)\n",
    "    dn=lamda*c*(1-K*n)\n",
    "    \n",
    "    if not D==0:\n",
    "        dc+=D*dot(L,transpose(c))\n",
    "    \n",
    "    CN=[]\n",
    "    \n",
    "    CN.extend(dc)\n",
    "    CN.extend(dn)\n",
    "    \n",
    "    return CN"
   ]
  },
  {
   "cell_type": "code",
   "execution_count": 4,
   "metadata": {},
   "outputs": [],
   "source": [
    "#Initial conditions for C and N\n",
    "def initCN(x,t):   \n",
    "    #Initial conditions\n",
    "    C=array([1 if k<100 else 0 for k in x])\n",
    "    N=array([0 for k in x ])\n",
    "    \n",
    "    return C,N"
   ]
  },
  {
   "cell_type": "code",
   "execution_count": 5,
   "metadata": {},
   "outputs": [],
   "source": [
    "#Constructs sparse matrix\n",
    "def discretizationMatrix(dx,m,n):\n",
    "    diagonals=[]\n",
    "    \n",
    "    diagonals.append(ones((1,n))[0]*(-2/pow(dx,2)))\n",
    "    diagonals.append((ones((1,n-1))[0])*(1/pow(dx,2)))\n",
    "    diagonals.append((ones((1,n-1))[0])*(1/pow(dx,2)))\n",
    "    diagonals.append(zeros((1,n-2))[0])\n",
    "    diagonals.append(zeros((1,n-2))[0])\n",
    "    \n",
    "    diagonals[2][n-2]=2/pow(dx,2)\n",
    "    diagonals[2][n-2]=2/pow(dx,2)\n",
    "    \n",
    "    L=diags(diagonals,[0,-1,1,2,-2])*eye(n)\n",
    "    \n",
    "    return L"
   ]
  },
  {
   "cell_type": "code",
   "execution_count": 6,
   "metadata": {},
   "outputs": [],
   "source": [
    "def solveODE(n,t,D):\n",
    "    \n",
    "    sol=odeint(field,CN,t,args=(n,D))\n",
    "    \n",
    "    C_sol=sol[:,0:n]\n",
    "    N_sol=sol[:,n:2*n]\n",
    "    \n",
    "    return [C_sol,N_sol]"
   ]
  },
  {
   "cell_type": "code",
   "execution_count": 7,
   "metadata": {},
   "outputs": [],
   "source": [
    "[C,N]=initCN(x,t)\n",
    "L=discretizationMatrix(dx,m,n)\n",
    "CN=[C[i] if i<n else N[i-n] for i in range(2*n)]"
   ]
  },
  {
   "cell_type": "code",
   "execution_count": 9,
   "metadata": {},
   "outputs": [],
   "source": [
    "lamda=0.1\n",
    "K=3\n",
    "gama=0\n",
    "\n",
    "CN_sol=solveODE(n,t,1)\n",
    "C_sol=CN_sol[0]\n",
    "N_sol=CN_sol[1]"
   ]
  },
  {
   "cell_type": "code",
   "execution_count": 10,
   "metadata": {},
   "outputs": [
    {
     "data": {
      "image/png": "[encoded data removed]",
      "text/plain": [
       "<matplotlib.figure.Figure at 0x10c9de9b0>"
      ]
     },
     "metadata": {},
     "output_type": "display_data"
    }
   ],
   "source": [
    "fig=plt.figure()\n",
    "xlim(0,350)\n",
    "ylim(0,1.2)\n",
    "xlabel('x')\n",
    "ylabel('Densidad de células')\n",
    "plot(x,C_sol[333],x,N_sol[333],'--')\n",
    "savefig('./images/')"
   ]
  },
  {
   "cell_type": "markdown",
   "metadata": {},
   "source": [
    "### γ = 0"
   ]
  },
  {
   "cell_type": "code",
   "execution_count": 11,
   "metadata": {},
   "outputs": [],
   "source": [
    "gama=0"
   ]
  },
  {
   "cell_type": "code",
   "execution_count": 12,
   "metadata": {},
   "outputs": [
    {
     "data": {
      "text/plain": [
       "<function matplotlib.pyplot.colors>"
      ]
     },
     "execution_count": 12,
     "metadata": {},
     "output_type": "execute_result"
    }
   ],
   "source": [
    "colors"
   ]
  },
  {
   "cell_type": "code",
   "execution_count": 44,
   "metadata": {},
   "outputs": [
    {
     "data": {
      "text/plain": [
       "<matplotlib.legend.Legend at 0x15289306d8>"
      ]
     },
     "execution_count": 44,
     "metadata": {},
     "output_type": "execute_result"
    },
    {
     "data": {
      "image/png": "[encoded data removed]",
      "text/plain": [
       "<matplotlib.figure.Figure at 0x1525571358>"
      ]
     },
     "metadata": {},
     "output_type": "display_data"
    }
   ],
   "source": [
    "#------------------------------------------------------------------------\n",
    "#                    PLOT FOR DIFFERENT LAMBDAS\n",
    "#------------------------------------------------------------------------\n",
    "lamdas=[10,1,0.2,0.1]\n",
    "clrs=['salmon','purple','g','dodgerblue']\n",
    "K=3\n",
    "\n",
    "\n",
    "fig5=figure()\n",
    "xlim(0,350)\n",
    "ylim(0,1.5)\n",
    "xlabel(\"x\")\n",
    "ylabel(\"Densidad de células\")\n",
    "\n",
    "for (l,c) in zip(lamdas,clrs):\n",
    "    lamda=l\n",
    "    CN_sol=solveODE(n,t,1)\n",
    "    \n",
    "    dc_sol=CN_sol[0]\n",
    "    dn_sol=CN_sol[1]\n",
    "    \n",
    "    plot(x,dc_sol[333],c,alpha=1,label='λ='+str(l))\n",
    "    plot(x,dn_sol[333],c,linestyle='--',alpha=0.7)\n",
    "    \n",
    "legend(loc='best')\n",
    "#savefig('./images/lambdas_0.eps',format='eps',dpi=900)"
   ]
  },
  {
   "cell_type": "code",
   "execution_count": 43,
   "metadata": {},
   "outputs": [
    {
     "data": {
      "text/plain": [
       "<matplotlib.legend.Legend at 0x15255851d0>"
      ]
     },
     "execution_count": 43,
     "metadata": {},
     "output_type": "execute_result"
    },
    {
     "data": {
      "image/png": "[encoded data removed]",
      "text/plain": [
       "<matplotlib.figure.Figure at 0x1528930d30>"
      ]
     },
     "metadata": {},
     "output_type": "display_data"
    }
   ],
   "source": [
    "#------------------------------------------------------------------------\n",
    "#                    PLOT FOR DIFFERENT K's\n",
    "#------------------------------------------------------------------------\n",
    "ks=[1,3,7,10]\n",
    "clrs=['salmon','purple','g','dodgerblue']\n",
    "\n",
    "lamda=0.3\n",
    "\n",
    "fig6=figure()\n",
    "xlim(0,350)\n",
    "ylim(0,1.2)\n",
    "xlabel(\"x\")\n",
    "ylabel(\"Densidad de células\")\n",
    "\n",
    "for (k_i,c) in zip(ks,clrs):\n",
    "    K=k_i\n",
    "    \n",
    "    CN_sol=solveODE(n,t,1)\n",
    "    \n",
    "    dc_sol=CN_sol[0]\n",
    "    dn_sol=CN_sol[1]\n",
    "    \n",
    "    plot(x,dc_sol[333],c,alpha=1,label='K='+str(k_i))\n",
    "    plot(x,dn_sol[333],c,linestyle='--',alpha=0.7)\n",
    "    \n",
    "legend(loc='best')\n",
    "#savefig('./images/ks_0.eps',format='eps',dpi=900)"
   ]
  },
  {
   "cell_type": "markdown",
   "metadata": {},
   "source": [
    "### γ = 1"
   ]
  },
  {
   "cell_type": "code",
   "execution_count": null,
   "metadata": {},
   "outputs": [],
   "source": [
    "gama=1"
   ]
  },
  {
   "cell_type": "code",
   "execution_count": null,
   "metadata": {},
   "outputs": [],
   "source": [
    "#------------------------------------------------------------------------\n",
    "#                    PLOT FOR DIFFERENT LAMBDAS\n",
    "#------------------------------------------------------------------------\n",
    "lamdas=[10,1,0.2,0.1]\n",
    "colors=['r','b','g','m']\n",
    "K=3\n",
    "\n",
    "fig5=figure()\n",
    "xlim(0,350)\n",
    "ylim(0,1.5)\n",
    "xlabel(\"x\")\n",
    "ylabel(\"Densidad de células\")\n",
    "\n",
    "for (l,c) in zip(lamdas,colors):\n",
    "    lamda=l\n",
    "    CN_sol=solveODE(n,t,1)\n",
    "    \n",
    "    dc_sol=CN_sol[0]\n",
    "    dn_sol=CN_sol[1]\n",
    "    \n",
    "    plot(x,dc_sol[333],color=c,alpha=0.8,label='λ='+str(l))\n",
    "    plot(x,dn_sol[333],c+'--',alpha=0.7)\n",
    "    \n",
    "legend(loc='best')\n",
    "#savefig('./images/lamdas_1.eps',format='eps',dpi=900)"
   ]
  },
  {
   "cell_type": "code",
   "execution_count": null,
   "metadata": {},
   "outputs": [],
   "source": [
    "#------------------------------------------------------------------------\n",
    "#                    PLOT FOR DIFFERENT K's\n",
    "#------------------------------------------------------------------------\n",
    "ks=[1,3,7,10]\n",
    "colors=['r','b','g','m']\n",
    "lamda=0.3\n",
    "\n",
    "fig6=figure()\n",
    "xlim(0,350)\n",
    "ylim(0,1.5)\n",
    "xlabel(\"x\")\n",
    "ylabel(\"Densidad de células\")\n",
    "\n",
    "for (k_i,c) in zip(ks,colors):\n",
    "    K=k_i\n",
    "    \n",
    "    CN_sol=solveODE(n,t,1)\n",
    "    \n",
    "    dc_sol=CN_sol[0]\n",
    "    dn_sol=CN_sol[1]\n",
    "    \n",
    "    plot(x,dc_sol[333],color=c,alpha=0.8,label='K='+str(k_i))\n",
    "    plot(x,dn_sol[333],c+'--',alpha=0.7)\n",
    "    \n",
    "legend(loc='best')\n",
    "#savefig('./images/ks_1.eps',format='eps',dpi=900)"
   ]
  },
  {
   "cell_type": "markdown",
   "metadata": {},
   "source": [
    "# Without diffusion\n",
    "We'll see how the system behaves in time"
   ]
  },
  {
   "cell_type": "code",
   "execution_count": null,
   "metadata": {},
   "outputs": [],
   "source": []
  },
  {
   "cell_type": "code",
   "execution_count": null,
   "metadata": {},
   "outputs": [],
   "source": [
    "# Generate initial conditons near a steady state\n",
    "#\n",
    "#INPUTS\n",
    "#  xstar: steady state\n",
    "#  eps: variation\n",
    "#  n: number of initial conditions \n",
    "def init_cond(xstar,eps,n):\n",
    "    xinit = xstar + eps*rand(n,2)\n",
    "    \n",
    "    return xinit"
   ]
  },
  {
   "cell_type": "code",
   "execution_count": 45,
   "metadata": {},
   "outputs": [
    {
     "ename": "NameError",
     "evalue": "name 'init_cond' is not defined",
     "output_type": "error",
     "traceback": [
      "\u001b[0;31m---------------------------------------------------------------------------\u001b[0m",
      "\u001b[0;31mNameError\u001b[0m                                 Traceback (most recent call last)",
      "\u001b[0;32m<ipython-input-45-660b9d2f831f>\u001b[0m in \u001b[0;36m<module>\u001b[0;34m()\u001b[0m\n\u001b[1;32m      7\u001b[0m \u001b[0;31m#xstar = [1-1/K,1/K]\u001b[0m\u001b[0;34m\u001b[0m\u001b[0;34m\u001b[0m\u001b[0m\n\u001b[1;32m      8\u001b[0m \u001b[0mxstar\u001b[0m \u001b[0;34m=\u001b[0m \u001b[0;34m[\u001b[0m\u001b[0;36m0\u001b[0m\u001b[0;34m,\u001b[0m\u001b[0;36m0\u001b[0m\u001b[0;34m]\u001b[0m\u001b[0;34m\u001b[0m\u001b[0m\n\u001b[0;32m----> 9\u001b[0;31m \u001b[0minit_states\u001b[0m\u001b[0;34m=\u001b[0m\u001b[0minit_cond\u001b[0m\u001b[0;34m(\u001b[0m\u001b[0mxstar\u001b[0m\u001b[0;34m,\u001b[0m\u001b[0meps\u001b[0m\u001b[0;34m,\u001b[0m\u001b[0mnum_ini\u001b[0m\u001b[0;34m)\u001b[0m\u001b[0;34m\u001b[0m\u001b[0m\n\u001b[0m\u001b[1;32m     10\u001b[0m \u001b[0;34m\u001b[0m\u001b[0m\n\u001b[1;32m     11\u001b[0m \u001b[0;31m#plot time dynamics\u001b[0m\u001b[0;34m\u001b[0m\u001b[0;34m\u001b[0m\u001b[0m\n",
      "\u001b[0;31mNameError\u001b[0m: name 'init_cond' is not defined"
     ]
    }
   ],
   "source": [
    "gama=0\n",
    "lamda=0.1\n",
    "K=3\n",
    "\n",
    "num_ini=2\n",
    "eps   = 0.03\n",
    "#xstar = [1-1/K,1/K]\n",
    "xstar = [0,0]\n",
    "init_states=init_cond(xstar,eps,num_ini)\n",
    "\n",
    "#plot time dynamics\n",
    "fig5=figure()\n",
    "xlabel(\"t\",fontsize=13)\n",
    "ylabel(\"c,n\",fontsize=13)\n",
    "xlim(0,150)\n",
    "ylim(0,1.1)\n",
    "\n",
    "for xi in init_states :\n",
    "    sol=odeint(field,xi,t,args=(1,0))\n",
    "    plot(t,sol[:,0])\n",
    "    plot(t,sol[:,1],'--')\n",
    "\n",
    "grid(linestyle='..',linewidth=0.5)\n",
    "title('Dinámica en el tiempo',fontsize=14)\n",
    "#savefig('./images/cn_vs_t.eps',format='eps',dpi=900)\n",
    "\n",
    "\n",
    "#plot phase space\n",
    "fig5=figure()\n",
    "xlabel(\"t\",fontsize=13)\n",
    "ylabel(\"c,n\",fontsize=13)\n",
    "\n",
    "for xi in init_states :\n",
    "    sol=odeint(field,xi,t,args=(1,0))\n",
    "    plot(sol[:,0],sol[:,1])\n",
    "    plot(xi[0],xi[1],\"black\",marker='o',markersize=5.0)\n",
    "    plot(sol[-1,0],sol[-1,1],\"black\",marker='D',markersize=5.0)\n",
    "    \n",
    "grid(linestyle='--',linewidth=0.5)\n",
    "title('Espacio fase',fontsize=14)\n",
    "#savefig('./images/cn_vs_t.eps',format='eps',dpi=900)"
   ]
  },
  {
   "cell_type": "code",
   "execution_count": null,
   "metadata": {},
   "outputs": [],
   "source": []
  }
 ],
 "metadata": {
  "kernelspec": {
   "display_name": "Python 3",
   "language": "python",
   "name": "python3"
  },
  "language_info": {
   "codemirror_mode": {
    "name": "ipython",
    "version": 3
   },
   "file_extension": ".py",
   "mimetype": "text/x-python",
   "name": "python",
   "nbconvert_exporter": "python",
   "pygments_lexer": "ipython3",
   "version": "3.6.4"
  }
 },
 "nbformat": 4,
 "nbformat_minor": 2
}
