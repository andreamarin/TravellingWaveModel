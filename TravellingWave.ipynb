{
 "cells": [
  {
   "cell_type": "code",
   "execution_count": null,
   "metadata": {},
   "outputs": [],
   "source": [
    "#Import libraries\n",
    "from numpy import *\n",
    "from scipy.sparse import diags\n",
    "from scipy.integrate import odeint\n",
    "from matplotlib import animation as animation\n",
    "from matplotlib import pyplot \n",
    "from pylab import *\n",
    "from itertools import *\n",
    "\n",
    "%matplotlib inline"
   ]
  },
  {
   "cell_type": "code",
   "execution_count": null,
   "metadata": {},
   "outputs": [],
   "source": [
    "colors = ['#a55194','#7b4173','#d6616b','#ad494a','#e7ba52','#b5cf6b','#8ca252','#9c9ede','#5254a3']\n",
    "# morados, rojos, amarillo, verdes y azules\n",
    "\n",
    "anim_solutions = []"
   ]
  },
  {
   "cell_type": "code",
   "execution_count": null,
   "metadata": {},
   "outputs": [],
   "source": [
    "#------------------------------------------------------------------------\n",
    "#                        TIME AND SPACE ARRAYS\n",
    "#------------------------------------------------------------------------\n",
    "#end of time and space arrays\n",
    "T=150\n",
    "R=500\n",
    "\n",
    "#size of the arrays\n",
    "m=500                #time\n",
    "n=1000                #space       \n",
    "\n",
    "#time array\n",
    "t=linspace(0,T,m,endpoint=True)\n",
    "\n",
    "#space array\n",
    "x=linspace(0,R,n,endpoint=True)\n",
    "\n",
    "dt=t[1]-t[0]\n",
    "dx=x[1]-x[0]\n"
   ]
  },
  {
   "cell_type": "code",
   "execution_count": null,
   "metadata": {},
   "outputs": [],
   "source": [
    "dt"
   ]
  },
  {
   "cell_type": "code",
   "execution_count": null,
   "metadata": {},
   "outputs": [],
   "source": [
    "dx"
   ]
  },
  {
   "cell_type": "code",
   "execution_count": null,
   "metadata": {},
   "outputs": [],
   "source": [
    "#-------------------------------------------------------------------------\n",
    "#                       VECTOR FIELD FOR THE SYSTEM\n",
    "#-------------------------------------------------------------------------\n",
    "# INPUTS\n",
    "#  CN: array of (1,2*n) with the values for C and N\n",
    "#  t: time array\n",
    "#  n: size of the space array\n",
    "#  D: difussion coefficient\n",
    "# OUTPUT\n",
    "#  CN: array with the value of the system at C and N\n",
    "\n",
    "def field(CN,t,n,D):\n",
    "    c=CN[0:n]\n",
    "    n=CN[n:2*n]\n",
    "    \n",
    "    dc=c*(1-c-gama*n)-lamda*c*(1-K*n)\n",
    "    dn=lamda*c*(1-K*n)\n",
    "    \n",
    "    if not D==0:\n",
    "        dc+=D*dot(L,transpose(c))\n",
    "    \n",
    "    CN=[]\n",
    "    \n",
    "    CN.extend(dc)\n",
    "    CN.extend(dn)\n",
    "    \n",
    "    return CN"
   ]
  },
  {
   "cell_type": "code",
   "execution_count": null,
   "metadata": {},
   "outputs": [],
   "source": [
    "#Initial conditions for C and N\n",
    "def initCN(x,t):   \n",
    "    #Initial conditions\n",
    "    C=array([exp(-0.4*k) for k in x])\n",
    "    #C=array([1 if k<100 else 0 for k in x])\n",
    "    N=array([0 for k in x ])\n",
    "    \n",
    "    return C,N"
   ]
  },
  {
   "cell_type": "code",
   "execution_count": null,
   "metadata": {},
   "outputs": [],
   "source": [
    "#Constructs sparse matrix\n",
    "def discretizationMatrix(dx,m,n):\n",
    "    diagonals=[]\n",
    "    \n",
    "    diagonals.append(ones((1,n))[0]*(-2/pow(dx,2)))\n",
    "    diagonals.append((ones((1,n-1))[0])*(1/pow(dx,2)))\n",
    "    diagonals.append((ones((1,n-1))[0])*(1/pow(dx,2)))\n",
    "    diagonals.append(zeros((1,n-2))[0])\n",
    "    diagonals.append(zeros((1,n-2))[0])\n",
    "    \n",
    "    diagonals[2][n-2]=2/pow(dx,2)\n",
    "    diagonals[2][n-2]=2/pow(dx,2)\n",
    "    \n",
    "    L=diags(diagonals,[0,-1,1,2,-2])*eye(n)\n",
    "    \n",
    "    return L"
   ]
  },
  {
   "cell_type": "code",
   "execution_count": null,
   "metadata": {},
   "outputs": [],
   "source": [
    "def solveODE(n,t,D):\n",
    "    \n",
    "    sol=odeint(field,CN,t,args=(n,D))\n",
    "    \n",
    "    C_sol=sol[:,0:n]\n",
    "    N_sol=sol[:,n:2*n]\n",
    "    \n",
    "    return [C_sol,N_sol]"
   ]
  },
  {
   "cell_type": "code",
   "execution_count": null,
   "metadata": {},
   "outputs": [],
   "source": [
    "[C,N]=initCN(x,t)\n",
    "L=discretizationMatrix(dx,m,n)\n",
    "CN=[C[i] if i<n else N[i-n] for i in range(2*n)]"
   ]
  },
  {
   "cell_type": "code",
   "execution_count": null,
   "metadata": {},
   "outputs": [],
   "source": [
    "lamda=0.1\n",
    "K=3\n",
    "gama=0\n",
    "\n",
    "CN_sol=solveODE(n,t,1)\n",
    "C_sol=CN_sol[0]\n",
    "N_sol=CN_sol[1]\n",
    "\n",
    "\n",
    "anim_solutions.append(CN_sol)"
   ]
  },
  {
   "cell_type": "code",
   "execution_count": null,
   "metadata": {},
   "outputs": [],
   "source": [
    "fig, ax = plt.subplots(nrows=1,figsize=(10,5))\n",
    "\n",
    "# remove right and top spine\n",
    "ax.spines['right'].set_visible(False)\n",
    "ax.spines['top'].set_visible(False)\n",
    "\n",
    "ax.set_xlim(0,400)\n",
    "ax.set_ylim(0,1.1)\n",
    "ax.set_xlabel('x')\n",
    "ax.set_ylabel('Densidad de células')\n",
    "\n",
    "text(180,0.8,'Invasión completa',fontsize=12.0)\n",
    "text(300,0.8,'Invasión nula',fontsize=12.0)\n",
    "\n",
    "plot(x,C_sol[350],color=colors[8],linewidth=2)\n",
    "plot(x,N_sol[350],color=colors[7],linestyle='--',linewidth=2)\n",
    "savefig('./images/wavefront.eps',format='eps',dip=900)"
   ]
  },
  {
   "cell_type": "markdown",
   "metadata": {},
   "source": [
    "# γ = 0"
   ]
  },
  {
   "cell_type": "code",
   "execution_count": null,
   "metadata": {},
   "outputs": [],
   "source": [
    "gama=0"
   ]
  },
  {
   "cell_type": "code",
   "execution_count": null,
   "metadata": {},
   "outputs": [],
   "source": [
    "#------------------------------------------------------------------------\n",
    "#                    PLOT FOR DIFFERENT LAMBDAS\n",
    "#------------------------------------------------------------------------\n",
    "lamdas=[10,1,0.2,0.1]\n",
    "clrs=[colors[0],colors[4],colors[5],colors[8]]\n",
    "K=3\n",
    "\n",
    "fig2, ax2 = plt.subplots(nrows=1,figsize=(10,4))\n",
    "\n",
    "# remove right and top spine\n",
    "ax2.spines['right'].set_visible(False)\n",
    "ax2.spines['top'].set_visible(False)\n",
    "\n",
    "ax2.set_xlim(0,350)\n",
    "ax2.set_ylim(0,1.1)\n",
    "ax2.set_xlabel(\"x\")\n",
    "ax2.set_ylabel(\"Densidad de células\")\n",
    "\n",
    "\n",
    "for (l,c) in zip(lamdas,clrs):\n",
    "    lamda=l\n",
    "    CN_sol=solveODE(n,t,1)\n",
    "    \n",
    "    dc_sol=CN_sol[0]\n",
    "    dn_sol=CN_sol[1]\n",
    "    \n",
    "    plot(x,dc_sol[350],c,alpha=1,label='λ='+str(l),linewidth=2)\n",
    "    plot(x,dn_sol[350],c,linestyle='--',alpha=0.8,linewidth=2)\n",
    "    \n",
    "legend(loc='best')\n",
    "savefig('./images/lambdas_0.eps',format='eps',dpi=900)"
   ]
  },
  {
   "cell_type": "code",
   "execution_count": null,
   "metadata": {
    "scrolled": true
   },
   "outputs": [],
   "source": [
    "#------------------------------------------------------------------------\n",
    "#                    PLOT FOR DIFFERENT K's\n",
    "#------------------------------------------------------------------------\n",
    "ks=[1,3,7,10]\n",
    "\n",
    "lamda=0.3\n",
    "\n",
    "fig3, ax3 = plt.subplots(nrows=1,figsize=(10,5))\n",
    "\n",
    "# remove right and top spine\n",
    "ax3.spines['right'].set_visible(False)\n",
    "ax3.spines['top'].set_visible(False)\n",
    "\n",
    "ax3.set_xlim(0,350)\n",
    "ax3.set_ylim(0,1.1)\n",
    "ax3.set_xlabel(\"x\")\n",
    "ax3.set_ylabel(\"Densidad de células\")\n",
    "\n",
    "for (k_i,c) in zip(ks,clrs):\n",
    "    K=k_i\n",
    "    \n",
    "    CN_sol=solveODE(n,t,1)\n",
    "    \n",
    "    dc_sol=CN_sol[0]\n",
    "    dn_sol=CN_sol[1]\n",
    "    \n",
    "    plot(x,dc_sol[350],c,alpha=1,label='K='+str(k_i))\n",
    "    plot(x,dn_sol[350],c,linestyle='--',alpha=0.7)\n",
    "    \n",
    "legend(loc='best')\n",
    "savefig('./images/ks_0.eps',format='eps',dpi=900)"
   ]
  },
  {
   "cell_type": "markdown",
   "metadata": {},
   "source": [
    "### Wavespeed analysis"
   ]
  },
  {
   "cell_type": "code",
   "execution_count": null,
   "metadata": {},
   "outputs": [],
   "source": [
    "lamda=0.1\n",
    "K=3\n",
    "\n",
    "CN_sol=solveODE(n,t,1)\n",
    "    \n",
    "dc=CN_sol[0]\n",
    "dn = CN_sol[1]\n",
    "\n",
    "#fixed point to approximate wavespeed\n",
    "c_s=dc[1][200]\n",
    "\n",
    "change_x=[x[200]]\n",
    "index_x=[200]\n",
    "\n",
    "for i in arange(0,500,10):\n",
    "    c_sol = dc[i]\n",
    "\n",
    "    x_pos = where(abs(c_s-c_sol)<0.05)\n",
    "    \n",
    "    if len(x_pos[0])>0:\n",
    "        j  = x_pos[0][0]\n",
    "        index_x.append(j)\n",
    "        change_x.append(x[j])\n",
    "\n",
    "#change in time \n",
    "dt_s = t[10]-t[1]\n",
    "speed=[]\n",
    "\n",
    "for i in range(1,len(change_x)):\n",
    "    s = (change_x[i]-change_x[i-1])/dt_s\n",
    "    speed.append(s)\n",
    "\n"
   ]
  },
  {
   "cell_type": "code",
   "execution_count": null,
   "metadata": {},
   "outputs": [],
   "source": [
    "speed"
   ]
  },
  {
   "cell_type": "markdown",
   "metadata": {},
   "source": [
    "## γ = 1"
   ]
  },
  {
   "cell_type": "code",
   "execution_count": null,
   "metadata": {},
   "outputs": [],
   "source": [
    "gama=1"
   ]
  },
  {
   "cell_type": "code",
   "execution_count": null,
   "metadata": {},
   "outputs": [],
   "source": [
    "#------------------------------------------------------------------------\n",
    "#                    PLOT FOR DIFFERENT LAMBDAS\n",
    "#------------------------------------------------------------------------\n",
    "lamdas=[10,1,0.2,0.1]\n",
    "K=3\n",
    "\n",
    "fig4=figure(figsize=(10,5))\n",
    "xlim(0,350)\n",
    "ylim(0,1.5)\n",
    "xlabel(\"x\")\n",
    "ylabel(\"Densidad de células\")\n",
    "\n",
    "for (l,c) in zip(lamdas,clrs):\n",
    "    lamda=l\n",
    "    CN_sol=solveODE(n,t,1)\n",
    "    \n",
    "    dc_sol=CN_sol[0]\n",
    "    dn_sol=CN_sol[1]\n",
    "    \n",
    "    plot(x,dc_sol[200],color=c,alpha=0.8,label='λ='+str(l))\n",
    "    plot(x,dn_sol[200],color=c,linestyle='--',alpha=0.7)\n",
    "    \n",
    "    if l==0.1:\n",
    "        print('true')\n",
    "        anim_solutions.append(CN_sol)\n",
    "    \n",
    "legend(loc='best')\n",
    "#savefig('./images/lamdas_1.eps',format='eps',dpi=900)"
   ]
  },
  {
   "cell_type": "code",
   "execution_count": null,
   "metadata": {},
   "outputs": [],
   "source": [
    "#------------------------------------------------------------------------\n",
    "#                    PLOT FOR DIFFERENT K's\n",
    "#------------------------------------------------------------------------\n",
    "ks=[1.5,3,7,10]\n",
    "\n",
    "lamda=0.3\n",
    "\n",
    "fig5=figure(figsize=(10,5))\n",
    "xlim(0,350)\n",
    "ylim(0,1.2)\n",
    "xlabel(\"x\")\n",
    "ylabel(\"Densidad de células\")\n",
    "\n",
    "for (k_i,c) in zip(ks,clrs):\n",
    "    K=k_i\n",
    "    \n",
    "    CN_sol=solveODE(n,t,1)\n",
    "    \n",
    "    dc_sol=CN_sol[0]\n",
    "    dn_sol=CN_sol[1]\n",
    "    \n",
    "    plot(x,dc_sol[200],c,alpha=1,label='K='+str(k_i))\n",
    "    plot(x,dn_sol[200],c,linestyle='--',alpha=0.7)\n",
    "    \n",
    "    if k_i == 1.5:\n",
    "        anim_solutions.append(CN_sol)\n",
    "    \n",
    "legend(loc='best')\n",
    "#savefig('./images/ks_0.eps',format='eps',dpi=900)"
   ]
  },
  {
   "cell_type": "markdown",
   "metadata": {},
   "source": [
    "### Wavespeed analysis"
   ]
  },
  {
   "cell_type": "code",
   "execution_count": null,
   "metadata": {},
   "outputs": [],
   "source": [
    "lamda=0.2\n",
    "K=3\n",
    "\n",
    "CN_sol=solveODE(n,t,1)\n",
    "    \n",
    "dc=CN_sol[0]\n",
    "dn = CN_sol[1]\n",
    "\n",
    "#fixed point to approximate wavespeed\n",
    "c_s=dc[1][200]\n",
    "\n",
    "change_x=[x[200]]\n",
    "index_x=[200]\n",
    "\n",
    "for i in arange(0,500,10):\n",
    "    c_sol = dc[i]\n",
    "\n",
    "    x_pos = where(abs(c_s-c_sol)<0.05)\n",
    "    \n",
    "    if len(x_pos[0])>0:\n",
    "        \n",
    "        if x_pos[0][0]>2:\n",
    "            j=x_pos[0][0]\n",
    "        else:\n",
    "            j=x_pos[0][1]\n",
    "            \n",
    "        index_x.append(j)\n",
    "        change_x.append(x[j])\n",
    "\n",
    "#change in time \n",
    "dt_s = t[10]-t[1]\n",
    "speed=[]\n",
    "\n",
    "for i in range(1,len(change_x)):\n",
    "    s = (change_x[i]-change_x[i-1])/dt_s\n",
    "    speed.append(s)\n",
    "\n"
   ]
  },
  {
   "cell_type": "code",
   "execution_count": null,
   "metadata": {},
   "outputs": [],
   "source": [
    "speed"
   ]
  },
  {
   "cell_type": "markdown",
   "metadata": {},
   "source": [
    "# Animations"
   ]
  },
  {
   "cell_type": "code",
   "execution_count": null,
   "metadata": {},
   "outputs": [],
   "source": [
    "# Set up formatting for the movie files\n",
    "Writer = animation.writers['ffmpeg']\n",
    "data = dict(title='Wave animation', artist='andreamarin')\n",
    "writer = Writer(fps=20, metadata=data)"
   ]
  },
  {
   "cell_type": "code",
   "execution_count": null,
   "metadata": {},
   "outputs": [],
   "source": [
    "#normal wave animation for gamma = 0\n",
    "\n",
    "sol=anim_solutions[0]\n",
    "C_sol=sol[0]\n",
    "N_sol=sol[1]\n",
    "\n",
    "\n",
    "fig_anim=figure()\n",
    "xlim(0, 500)\n",
    "ylim(0, 1.2)\n",
    "line_1, = plot(x,C_sol[0],color=colors[2], lw=2,label='Células precursoras')\n",
    "line_2, = plot(x,N_sol[0],color=colors[2],alpha=0.6,lw=2,linestyle='--',label='Células diferenciadas')\n",
    "legend(loc='best')\n",
    "with writer.saving(fig_anim, \"./videos/wave_0.mp4\", dpi=600):\n",
    "    for i in range(m):\n",
    "        line_1.set_ydata(C_sol[i])\n",
    "        line_2.set_ydata(N_sol[i])\n",
    "        title('time = '+str(t[i]))\n",
    "        writer.grab_frame()"
   ]
  },
  {
   "cell_type": "code",
   "execution_count": null,
   "metadata": {},
   "outputs": [],
   "source": [
    "len(anim_solutions)"
   ]
  },
  {
   "cell_type": "code",
   "execution_count": null,
   "metadata": {},
   "outputs": [],
   "source": [
    "#nonmonotonic wavefront for lambda = 0.1\n",
    "sol=anim_solutions[2]\n",
    "C_sol=sol[0]\n",
    "N_sol=sol[1]\n",
    "\n",
    "fig_anim2=figure()\n",
    "xlim(0, 500)\n",
    "ylim(0, 1.2)\n",
    "line_1, = plot([],[],color=colors[8], lw=2,label='Células precursoras')\n",
    "line_2, = plot([],[],color=colors[8],alpha=0.6,lw=2,linestyle='--',label='Células diferenciadas')\n",
    "legend(loc='best')\n",
    "\n",
    "with writer.saving(fig_anim2, \"./videos/nmwave_1.mp4\", dpi=600):\n",
    "    for i in range(m):\n",
    "        line_1.set_data(x,C_sol[i])\n",
    "        line_2.set_data(x,N_sol[i])\n",
    "        title('time = '+str(t[i]))\n",
    "        writer.grab_frame()"
   ]
  },
  {
   "cell_type": "code",
   "execution_count": null,
   "metadata": {},
   "outputs": [],
   "source": [
    "#nonmonotonic wavefront for K = 1.5\n",
    "sol=anim_solutions[3]\n",
    "C_sol=sol[0]\n",
    "N_sol=sol[1]\n",
    "\n",
    "fig_anim2=figure()\n",
    "xlim(0, 500)\n",
    "ylim(0, 1.2)\n",
    "line_1, = plot([],[],color=colors[6], lw=2,label='Células precursoras')\n",
    "line_2, = plot([],[],color=colors[6],alpha=0.6,lw=2,linestyle='--', label='Células diferenciadas')\n",
    "legend(loc='best')\n",
    "with writer.saving(fig_anim2, \"./videos/nmwave_2.mp4\", dpi=600):\n",
    "    for i in range(m):\n",
    "        line_1.set_data(x,C_sol[i])\n",
    "        line_2.set_data(x,N_sol[i])\n",
    "        title('time = '+str(t[i]))\n",
    "        writer.grab_frame()"
   ]
  }
 ],
 "metadata": {
  "kernelspec": {
   "display_name": "Python 3",
   "language": "python",
   "name": "python3"
  },
  "language_info": {
   "codemirror_mode": {
    "name": "ipython",
    "version": 3
   },
   "file_extension": ".py",
   "mimetype": "text/x-python",
   "name": "python",
   "nbconvert_exporter": "python",
   "pygments_lexer": "ipython3",
   "version": "3.6.4"
  }
 },
 "nbformat": 4,
 "nbformat_minor": 2
}
